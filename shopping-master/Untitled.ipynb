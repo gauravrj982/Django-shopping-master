{
 "cells": [
  {
   "cell_type": "code",
   "execution_count": 1,
   "metadata": {},
   "outputs": [
    {
     "data": {
      "text/plain": [
       "<QuerySet [<Image: Image object (357)>, <Image: Image object (358)>, <Image: Image object (359)>, <Image: Image object (360)>, <Image: Image object (361)>, <Image: Image object (362)>, <Image: Image object (363)>, <Image: Image object (364)>, <Image: Image object (365)>, <Image: Image object (366)>]>"
      ]
     },
     "execution_count": 1,
     "metadata": {},
     "output_type": "execute_result"
    }
   ],
   "source": [
    "Image.objects.all()\n",
    "\n"
   ]
  },
  {
   "cell_type": "code",
   "execution_count": 10,
   "metadata": {},
   "outputs": [
    {
     "name": "stdout",
     "output_type": "stream",
     "text": [
      "id                photopath                                          date\n",
      "--  -----------------------------------------------------------------------------\n",
      "357 C:/Users/rohit/WorkspacePython/static/media/FU2ETK.jpg 2020-01-08 03:37:21+00:00\n",
      "358 C:/Users/rohit/WorkspacePython/static/media/LHBMRG.jpg 2020-01-08 03:37:24+00:00\n",
      "359 C:/Users/rohit/WorkspacePython/static/media/0FP84O.jpg 2020-01-08 03:37:26+00:00\n",
      "360 C:/Users/rohit/WorkspacePython/static/media/57QT7H.jpg 2020-01-08 03:37:28+00:00\n",
      "361 C:/Users/rohit/WorkspacePython/static/media/XG77N7.jpg 2020-01-08 03:37:30+00:00\n",
      "362 C:/Users/rohit/WorkspacePython/static/media/WRK298.jpg 2020-01-08 03:37:32+00:00\n",
      "363 C:/Users/rohit/WorkspacePython/static/media/QOV9GT.jpg 2020-01-08 03:37:34+00:00\n",
      "364 C:/Users/rohit/WorkspacePython/static/media/PXD7WZ.jpg 2020-01-08 03:37:36+00:00\n",
      "365 C:/Users/rohit/WorkspacePython/static/media/PXEMVI.jpg 2020-01-08 03:37:38+00:00\n",
      "366 C:/Users/rohit/WorkspacePython/static/media/NZV04P.jpg 2020-01-08 03:37:40+00:00\n"
     ]
    }
   ],
   "source": [
    "image=Image.objects.all()\n",
    "print('id                photopath                                          date')\n",
    "print('--  -----------------------------------------------------------------------------')\n",
    "for i in image:\n",
    "    print(i.id, i.photo, i.date_created)"
   ]
  },
  {
   "cell_type": "code",
   "execution_count": null,
   "metadata": {},
   "outputs": [],
   "source": []
  }
 ],
 "metadata": {
  "kernelspec": {
   "display_name": "Django Shell-Plus",
   "language": "python",
   "name": "django_extensions"
  },
  "language_info": {
   "codemirror_mode": {
    "name": "ipython",
    "version": 3
   },
   "file_extension": ".py",
   "mimetype": "text/x-python",
   "name": "python",
   "nbconvert_exporter": "python",
   "pygments_lexer": "ipython3",
   "version": "3.7.4"
  }
 },
 "nbformat": 4,
 "nbformat_minor": 4
}
